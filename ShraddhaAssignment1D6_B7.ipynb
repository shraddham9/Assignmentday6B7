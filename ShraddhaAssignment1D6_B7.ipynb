{
  "nbformat": 4,
  "nbformat_minor": 0,
  "metadata": {
    "colab": {
      "name": "ShraddhaAssignment1D6-B7.ipynb",
      "provenance": []
    },
    "kernelspec": {
      "name": "python3",
      "display_name": "Python 3"
    }
  },
  "cells": [
    {
      "cell_type": "code",
      "metadata": {
        "id": "f_Y4so2hN9cq",
        "colab_type": "code",
        "colab": {}
      },
      "source": [
        "#program on OOP"
      ],
      "execution_count": null,
      "outputs": []
    },
    {
      "cell_type": "code",
      "metadata": {
        "id": "TiQunLjxbTWY",
        "colab_type": "code",
        "colab": {}
      },
      "source": [
        "class Account:\n",
        "        def __init__(self, account_holder):\n",
        "            self.balance = 0\n",
        "            self.holder = account_holder\n",
        "        def deposit(self, amount):\n",
        "            self.balance = self.balance + amount\n",
        "            return self.balance\n",
        "        def withdraw(self, amount):\n",
        "            if amount > self.balance:\n",
        "                return 'Insufficient funds'\n",
        "            self.balance = self.balance - amount\n",
        "            return self.balance\n",
        "            \n",
        "            "
      ],
      "execution_count": 29,
      "outputs": []
    },
    {
      "cell_type": "code",
      "metadata": {
        "id": "Ty92M67wcBLK",
        "colab_type": "code",
        "colab": {
          "base_uri": "https://localhost:8080/",
          "height": 34
        },
        "outputId": "ddc8145a-bfb7-43c0-d94f-5c24d6461372"
      },
      "source": [
        "            shraddha_account = Account('Shraddha')\n",
        "            shraddha_account.deposit(1000)\n",
        "            shraddha_account.withdraw(900)"
      ],
      "execution_count": 40,
      "outputs": [
        {
          "output_type": "execute_result",
          "data": {
            "text/plain": [
              "100"
            ]
          },
          "metadata": {
            "tags": []
          },
          "execution_count": 40
        }
      ]
    },
    {
      "cell_type": "code",
      "metadata": {
        "id": "iatOp8TgdCbG",
        "colab_type": "code",
        "colab": {
          "base_uri": "https://localhost:8080/",
          "height": 35
        },
        "outputId": "38aa58ea-30fc-47c9-f696-d2421999301e"
      },
      "source": [
        "shraddha_account.holder\n"
      ],
      "execution_count": 37,
      "outputs": [
        {
          "output_type": "execute_result",
          "data": {
            "application/vnd.google.colaboratory.intrinsic+json": {
              "type": "string"
            },
            "text/plain": [
              "'Shraddha'"
            ]
          },
          "metadata": {
            "tags": []
          },
          "execution_count": 37
        }
      ]
    },
    {
      "cell_type": "code",
      "metadata": {
        "id": "QtEVrue_dY_V",
        "colab_type": "code",
        "colab": {
          "base_uri": "https://localhost:8080/",
          "height": 35
        },
        "outputId": "8e7c668d-e527-4ce4-b82d-2c876cd04aec"
      },
      "source": [
        "shraddha_account.withdraw(90)"
      ],
      "execution_count": 38,
      "outputs": [
        {
          "output_type": "execute_result",
          "data": {
            "application/vnd.google.colaboratory.intrinsic+json": {
              "type": "string"
            },
            "text/plain": [
              "'Insufficient funds'"
            ]
          },
          "metadata": {
            "tags": []
          },
          "execution_count": 38
        }
      ]
    },
    {
      "cell_type": "code",
      "metadata": {
        "id": "QbWinMX5dzIp",
        "colab_type": "code",
        "colab": {
          "base_uri": "https://localhost:8080/",
          "height": 35
        },
        "outputId": "5b62da66-e929-47d0-9fac-bf4f8751a1f5"
      },
      "source": [
        "            shraddha_account = Account('Shraddha')\n",
        "            shraddha_account.deposit(1000)\n",
        "            shraddha_account.withdraw(1200)"
      ],
      "execution_count": 41,
      "outputs": [
        {
          "output_type": "execute_result",
          "data": {
            "application/vnd.google.colaboratory.intrinsic+json": {
              "type": "string"
            },
            "text/plain": [
              "'Insufficient funds'"
            ]
          },
          "metadata": {
            "tags": []
          },
          "execution_count": 41
        }
      ]
    }
  ]
}