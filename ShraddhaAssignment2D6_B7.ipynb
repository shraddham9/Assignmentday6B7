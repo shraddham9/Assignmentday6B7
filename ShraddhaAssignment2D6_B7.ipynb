{
  "nbformat": 4,
  "nbformat_minor": 0,
  "metadata": {
    "colab": {
      "name": "ShraddhaAssignment2D6-B7.ipynb",
      "provenance": []
    },
    "kernelspec": {
      "name": "python3",
      "display_name": "Python 3"
    }
  },
  "cells": [
    {
      "cell_type": "code",
      "metadata": {
        "id": "DP2UV27tVqdg",
        "colab_type": "code",
        "colab": {
          "base_uri": "https://localhost:8080/",
          "height": 51
        },
        "outputId": "71223bc1-cc10-4a7f-deb8-ae8ec3cbe3a7"
      },
      "source": [
        "#Assignment2DAY6 B7\n",
        "#Python3 program to calculate Volume and  Surface area of Cone\n",
        "import math \n",
        "pi = math.pi \n",
        "   \n",
        "def volume(r, h): \n",
        "    return (1 / 3) * pi * r * r * h \n",
        "  \n",
        "def surfacearea(r, s): \n",
        "    return pi * r * s + pi * r * r \n",
        "\n",
        "radius = float(8) \n",
        "height = float(12) \n",
        "slat_height = float(15) \n",
        "print( \"Volume Of Cone : \", volume(radius, height) ) \n",
        "print( \"Surface Area Of Cone : \", surfacearea(radius, slat_height) ) "
      ],
      "execution_count": 3,
      "outputs": [
        {
          "output_type": "stream",
          "text": [
            "Volume Of Cone :  804.247719318987\n",
            "Surface Area Of Cone :  578.0530482605219\n"
          ],
          "name": "stdout"
        }
      ]
    }
  ]
}